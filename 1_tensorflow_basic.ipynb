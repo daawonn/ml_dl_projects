{
  "nbformat": 4,
  "nbformat_minor": 0,
  "metadata": {
    "colab": {
      "name": "1.tensorflow_basic.ipynb",
      "provenance": [],
      "toc_visible": true,
      "authorship_tag": "ABX9TyN5QuA28DzAQWJ64SZ+jZ1v",
      "include_colab_link": true
    },
    "kernelspec": {
      "name": "python3",
      "display_name": "Python 3"
    }
  },
  "cells": [
    {
      "cell_type": "markdown",
      "metadata": {
        "id": "view-in-github",
        "colab_type": "text"
      },
      "source": [
        "<a href=\"https://colab.research.google.com/github/daawonn/ml_dl_projects/blob/master/1_tensorflow_basic.ipynb\" target=\"_parent\"><img src=\"https://colab.research.google.com/assets/colab-badge.svg\" alt=\"Open In Colab\"/></a>"
      ]
    },
    {
      "cell_type": "markdown",
      "metadata": {
        "id": "h6AVqRtGN5x8",
        "colab_type": "text"
      },
      "source": [
        "# 목적\n",
        "\n",
        "-  텐서플로우 기본 사용법을 익힌다 \n"
      ]
    },
    {
      "cell_type": "code",
      "metadata": {
        "id": "xOfQu20aN47h",
        "colab_type": "code",
        "outputId": "2304ec04-57cc-4b1f-ae57-acba03bb5592",
        "colab": {
          "base_uri": "https://localhost:8080/",
          "height": 64
        }
      },
      "source": [
        "import tensorflow as tf\n",
        "%tensorflow_version 1.x"
      ],
      "execution_count": 0,
      "outputs": [
        {
          "output_type": "display_data",
          "data": {
            "text/html": [
              "<p style=\"color: red;\">\n",
              "The default version of TensorFlow in Colab will soon switch to TensorFlow 2.x.<br>\n",
              "We recommend you <a href=\"https://www.tensorflow.org/guide/migrate\" target=\"_blank\">upgrade</a> now \n",
              "or ensure your notebook will continue to use TensorFlow 1.x via the <code>%tensorflow_version 1.x</code> magic:\n",
              "<a href=\"https://colab.research.google.com/notebooks/tensorflow_version.ipynb\" target=\"_blank\">more info</a>.</p>\n"
            ],
            "text/plain": [
              "<IPython.core.display.HTML object>"
            ]
          },
          "metadata": {
            "tags": []
          }
        }
      ]
    },
    {
      "cell_type": "markdown",
      "metadata": {
        "id": "AUU9O4quQmkD",
        "colab_type": "text"
      },
      "source": [
        "# 기본틀\n",
        "- 그래프\n",
        "- 연산(계산) 처리"
      ]
    },
    {
      "cell_type": "code",
      "metadata": {
        "id": "E5d20PNuOCK0",
        "colab_type": "code",
        "outputId": "a441fe7c-aeb4-4c1d-aad4-d9aca0bd8066",
        "colab": {
          "base_uri": "https://localhost:8080/",
          "height": 35
        }
      },
      "source": [
        "# A. 관계 기술 => 그래프 => 플로우(흐름)을 구성\n",
        "hello = tf.constant('hello DL !!') # 상수\n",
        "hello"
      ],
      "execution_count": 0,
      "outputs": [
        {
          "output_type": "execute_result",
          "data": {
            "text/plain": [
              "<tf.Tensor 'Const:0' shape=() dtype=string>"
            ]
          },
          "metadata": {
            "tags": []
          },
          "execution_count": 2
        }
      ]
    },
    {
      "cell_type": "code",
      "metadata": {
        "id": "ggVbs5F-OWXT",
        "colab_type": "code",
        "outputId": "531136dc-89ba-4a0b-f158-c93b55907872",
        "colab": {
          "base_uri": "https://localhost:8080/",
          "height": 35
        }
      },
      "source": [
        "# B. 구동\n",
        "# 1. 세션을 구한다(오픈한다)\n",
        "sess = tf.Session()\n",
        "# 2. 데이터를 주입하여 연산(계산)\n",
        "print(sess.run( hello ))\n",
        "# 3. 세션을 닫는다\n",
        "sess.close()"
      ],
      "execution_count": 0,
      "outputs": [
        {
          "output_type": "execute_result",
          "data": {
            "text/plain": [
              "b'hello DL !!'"
            ]
          },
          "metadata": {
            "tags": []
          },
          "execution_count": 4
        }
      ]
    },
    {
      "cell_type": "code",
      "metadata": {
        "id": "vz7TvtGbPHoL",
        "colab_type": "code",
        "outputId": "c3150c6d-4888-41fd-eac4-9128fac09d75",
        "colab": {
          "base_uri": "https://localhost:8080/",
          "height": 35
        }
      },
      "source": [
        "# I/O 처리시 close()를 누락할 수도 있기 때문에 with문 사용해서 두 줄로 줄이기\n",
        "with tf.Session() as sess:\n",
        "  print(sess.run( hello ))"
      ],
      "execution_count": 0,
      "outputs": [
        {
          "output_type": "stream",
          "text": [
            "b'hello DL !!'\n"
          ],
          "name": "stdout"
        }
      ]
    },
    {
      "cell_type": "markdown",
      "metadata": {
        "id": "ef3PE7S6Qati",
        "colab_type": "text"
      },
      "source": [
        "# 텐서플로우를 이용한 간단한 연산(계산)"
      ]
    },
    {
      "cell_type": "code",
      "metadata": {
        "id": "8A9qCYboQ481",
        "colab_type": "code",
        "outputId": "f55f4767-f5c6-4e9b-f222-7b299c72a8fb",
        "colab": {
          "base_uri": "https://localhost:8080/",
          "height": 53
        }
      },
      "source": [
        "# 1. 플로우 구성\n",
        "\n",
        "# 상수 정의(define)\n",
        "a = tf.constant(123)\n",
        "b = tf.constant(500)\n",
        "a,b"
      ],
      "execution_count": 0,
      "outputs": [
        {
          "output_type": "execute_result",
          "data": {
            "text/plain": [
              "(<tf.Tensor 'Const_1:0' shape=() dtype=int32>,\n",
              " <tf.Tensor 'Const_2:0' shape=() dtype=int32>)"
            ]
          },
          "metadata": {
            "tags": []
          },
          "execution_count": 7
        }
      ]
    },
    {
      "cell_type": "code",
      "metadata": {
        "id": "DrLOAAtYRItz",
        "colab_type": "code",
        "outputId": "b49cefee-cf67-43b4-8e7c-4dfad1ab950d",
        "colab": {
          "base_uri": "https://localhost:8080/",
          "height": 35
        }
      },
      "source": [
        "# 계산 정의(실제로 수행은 하지않고 더한다는 형태만 가진다)\n",
        "add_operation = a + b\n",
        "add_operation"
      ],
      "execution_count": 0,
      "outputs": [
        {
          "output_type": "execute_result",
          "data": {
            "text/plain": [
              "<tf.Tensor 'add:0' shape=() dtype=int32>"
            ]
          },
          "metadata": {
            "tags": []
          },
          "execution_count": 8
        }
      ]
    },
    {
      "cell_type": "code",
      "metadata": {
        "id": "xFCze9t2RcE8",
        "colab_type": "code",
        "outputId": "249e480a-a5c5-4a66-fc36-db6a3259e3b7",
        "colab": {
          "base_uri": "https://localhost:8080/",
          "height": 35
        }
      },
      "source": [
        "# 실제 연산 처리, 구동\n",
        "with tf.Session() as sess:\n",
        "  res = sess.run( add_operation )\n",
        "  print( res, type(res) )"
      ],
      "execution_count": 0,
      "outputs": [
        {
          "output_type": "stream",
          "text": [
            "623 <class 'numpy.int32'>\n"
          ],
          "name": "stdout"
        }
      ]
    },
    {
      "cell_type": "markdown",
      "metadata": {
        "id": "6GUoKFJ7SKHN",
        "colab_type": "text"
      },
      "source": [
        "# 텐서플로우의 기본 항목 사용\n",
        "\n",
        "- 핵심 데이터 구조 요소\n",
        "  - 상수 : Constant\n",
        "  - 변수 : Variable\n",
        "  - 플레이스홀더 : Placeholder\n"
      ]
    },
    {
      "cell_type": "code",
      "metadata": {
        "id": "oDFqz1FqRcID",
        "colab_type": "code",
        "outputId": "def62ddd-2214-4b3c-c307-97bd64e1dc36",
        "colab": {
          "base_uri": "https://localhost:8080/",
          "height": 71
        }
      },
      "source": [
        "# 상수 정의\n",
        "a = tf.constant( 100, name='a' )\n",
        "b = tf.constant( 110, name='b' ) \n",
        "c = tf.constant( 120, name='c' )\n",
        "a,b,c"
      ],
      "execution_count": 0,
      "outputs": [
        {
          "output_type": "execute_result",
          "data": {
            "text/plain": [
              "(<tf.Tensor 'a:0' shape=() dtype=int32>,\n",
              " <tf.Tensor 'b:0' shape=() dtype=int32>,\n",
              " <tf.Tensor 'c:0' shape=() dtype=int32>)"
            ]
          },
          "metadata": {
            "tags": []
          },
          "execution_count": 11
        }
      ]
    },
    {
      "cell_type": "code",
      "metadata": {
        "id": "CQa9F-EMRcLz",
        "colab_type": "code",
        "outputId": "4dfbbf6f-225d-4212-fad1-f7d3e647a2f6",
        "colab": {
          "base_uri": "https://localhost:8080/",
          "height": 35
        }
      },
      "source": [
        "# 변수 정의\n",
        "v = tf.Variable( 0, name='v' )\n",
        "v, v.name"
      ],
      "execution_count": 0,
      "outputs": [
        {
          "output_type": "execute_result",
          "data": {
            "text/plain": [
              "(<tf.Variable 'v_1:0' shape=() dtype=int32_ref>, 'v_1:0')"
            ]
          },
          "metadata": {
            "tags": []
          },
          "execution_count": 13
        }
      ]
    },
    {
      "cell_type": "code",
      "metadata": {
        "id": "J1UMTUImRcP0",
        "colab_type": "code",
        "outputId": "828ee476-7aea-4923-83e3-9841c6acc1ff",
        "colab": {
          "base_uri": "https://localhost:8080/",
          "height": 35
        }
      },
      "source": [
        "# 연산식 정의 : 데이터 플로우 그래프의 정의\n",
        "calc_operation  = a + b + c\n",
        "calc_operation"
      ],
      "execution_count": 0,
      "outputs": [
        {
          "output_type": "execute_result",
          "data": {
            "text/plain": [
              "<tf.Tensor 'add_2:0' shape=() dtype=int32>"
            ]
          },
          "metadata": {
            "tags": []
          },
          "execution_count": 14
        }
      ]
    },
    {
      "cell_type": "code",
      "metadata": {
        "id": "7AQfuO_rRcSs",
        "colab_type": "code",
        "outputId": "0a85ea1c-c110-419b-b237-7fccae3bd34b",
        "colab": {
          "base_uri": "https://localhost:8080/",
          "height": 35
        }
      },
      "source": [
        "# 데이터 플로우 그래프의 정의\n",
        "# 변수 v 에 calc_operation의 계산값을 대입(assign)하라는 그래프를 정의\n",
        "assign_operation = tf.assign( v, calc_operation )\n",
        "assign_operation"
      ],
      "execution_count": 0,
      "outputs": [
        {
          "output_type": "execute_result",
          "data": {
            "text/plain": [
              "<tf.Tensor 'Assign:0' shape=() dtype=int32_ref>"
            ]
          },
          "metadata": {
            "tags": []
          },
          "execution_count": 15
        }
      ]
    },
    {
      "cell_type": "code",
      "metadata": {
        "id": "TAqtc7ovTxAt",
        "colab_type": "code",
        "outputId": "e0ede0d6-b8cb-40ec-cd18-e7852fbc43f0",
        "colab": {
          "base_uri": "https://localhost:8080/",
          "height": 53
        }
      },
      "source": [
        "# 구동\n",
        "with tf.Session() as sess:\n",
        "  res = sess.run( assign_operation )\n",
        "  print( res, type(res) )\n",
        "  res = sess.run(v)\n",
        "  print( res, type(res) )"
      ],
      "execution_count": 0,
      "outputs": [
        {
          "output_type": "stream",
          "text": [
            "330 <class 'numpy.int32'>\n",
            "330 <class 'numpy.int32'>\n"
          ],
          "name": "stdout"
        }
      ]
    },
    {
      "cell_type": "markdown",
      "metadata": {
        "id": "R8mtjClWVJ3D",
        "colab_type": "text"
      },
      "source": [
        "## 플레이스홀더\n",
        "  - 템플릿 같은 느낌\n",
        "  - 데이터 플로우 그래프(관계) 구축시 값을 넣지 않고 값을 담을 수 있는 형태만 정의한 형식\n",
        "  - 세션 수행시 데이터가 담긴다(함수호출시 인자를 전달할때 받는 파라미터의 느낌, 데이터를 주입시 받는 공간,그릇)\n",
        "  - SQL문 수행시 ?, %s 등을 통해서 파라미터를 전달하는 느낌과 비슷하다"
      ]
    },
    {
      "cell_type": "code",
      "metadata": {
        "id": "rB3TA1YLTxDb",
        "colab_type": "code",
        "outputId": "c9d9fc42-31e6-4bc6-b406-ba307a4c7a74",
        "colab": {
          "base_uri": "https://localhost:8080/",
          "height": 35
        }
      },
      "source": [
        "# 고정크기 플레이스홀더\n",
        "# 정수값 3개가 올 수 있다\n",
        "a = tf.placeholder(tf.int32, [3])   # 여기서 3은 배열,1차원\n",
        "a"
      ],
      "execution_count": 0,
      "outputs": [
        {
          "output_type": "execute_result",
          "data": {
            "text/plain": [
              "<tf.Tensor 'Placeholder:0' shape=(3,) dtype=int32>"
            ]
          },
          "metadata": {
            "tags": []
          },
          "execution_count": 18
        }
      ]
    },
    {
      "cell_type": "code",
      "metadata": {
        "id": "1632pGobTxGE",
        "colab_type": "code",
        "colab": {}
      },
      "source": [
        "# 상수\n",
        "b = tf.constant( 2 )"
      ],
      "execution_count": 0,
      "outputs": []
    },
    {
      "cell_type": "code",
      "metadata": {
        "id": "zm-m8FU_TxLT",
        "colab_type": "code",
        "colab": {}
      },
      "source": [
        "# 데이터 플로우 그래프\n",
        "# 벡터(a)와 스칼라(b)의 연산\n",
        "x2_operation = a * b "
      ],
      "execution_count": 0,
      "outputs": []
    },
    {
      "cell_type": "code",
      "metadata": {
        "id": "J79iuT4mkheZ",
        "colab_type": "code",
        "outputId": "7dd0e57d-4f87-42ab-ee38-7569d510aa55",
        "colab": {
          "base_uri": "https://localhost:8080/",
          "height": 35
        }
      },
      "source": [
        "# 연산수행\n",
        "with tf.Session() as sess:\n",
        "  res = sess.run( x2_operation, feed_dict={ a :[1,2,3] } )\n",
        "  print(res, type(res)) # ndarray는 리스트와 다르게 값사이에 ',' 가 없음"
      ],
      "execution_count": 0,
      "outputs": [
        {
          "output_type": "stream",
          "text": [
            "[2 4 6] <class 'numpy.ndarray'>\n"
          ],
          "name": "stdout"
        }
      ]
    },
    {
      "cell_type": "code",
      "metadata": {
        "id": "CcKtFDJnlUeZ",
        "colab_type": "code",
        "colab": {}
      },
      "source": [
        "# 가변크기 플레이스홀더\n",
        "# 크기를 모를때, 크기를 다양하게 받을때\n",
        "a = tf.placeholder(tf.int32, [None])\n",
        "b = tf.constant( 3 )\n",
        "x3_operation = a * b "
      ],
      "execution_count": 0,
      "outputs": []
    },
    {
      "cell_type": "code",
      "metadata": {
        "id": "BFhC0DIklUg2",
        "colab_type": "code",
        "outputId": "e03bcfb1-d4d4-497a-9dea-8eb1d4986e5d",
        "colab": {
          "base_uri": "https://localhost:8080/",
          "height": 53
        }
      },
      "source": [
        "# 연산수행\n",
        "with tf.Session() as sess:\n",
        "  # 주입하는 데이터의 shape이 다르다\n",
        "  res = sess.run( x3_operation, feed_dict={ a :[1,2,3,4] } )\n",
        "  print(res, type(res))\n",
        "  res = sess.run( x3_operation, feed_dict={ a :[10,11] } )\n",
        "  print(res, type(res)) "
      ],
      "execution_count": 0,
      "outputs": [
        {
          "output_type": "stream",
          "text": [
            "[ 3  6  9 12] <class 'numpy.ndarray'>\n",
            "[30 33] <class 'numpy.ndarray'>\n"
          ],
          "name": "stdout"
        }
      ]
    },
    {
      "cell_type": "markdown",
      "metadata": {
        "id": "tmyQOsJpn6PZ",
        "colab_type": "text"
      },
      "source": [
        "# 세션 구동\n",
        "\n",
        "- Session()\n",
        "- InteractiveSession()\n",
        "  - run()을 사용하지 않는다\n",
        "  - 처리시 eval()함수를 활용\n",
        "  "
      ]
    },
    {
      "cell_type": "code",
      "metadata": {
        "id": "0KSvaLVXpRS_",
        "colab_type": "code",
        "colab": {}
      },
      "source": [
        "sess = tf.InteractiveSession()"
      ],
      "execution_count": 0,
      "outputs": []
    },
    {
      "cell_type": "code",
      "metadata": {
        "id": "eZkrPbkMlUjn",
        "colab_type": "code",
        "outputId": "dc0932c3-f862-41ef-b4be-f8c111629693",
        "colab": {
          "base_uri": "https://localhost:8080/",
          "height": 89
        }
      },
      "source": [
        "matrix1 = tf.constant( [ [1.,2.], [3.,4.] ] )\n",
        "matrix2 = tf.constant( [ [10.], [20.] ] )\n",
        "matrix1, matrix2 , matrix1.shape, matrix2.shape"
      ],
      "execution_count": 0,
      "outputs": [
        {
          "output_type": "execute_result",
          "data": {
            "text/plain": [
              "(<tf.Tensor 'Const_10:0' shape=(2, 2) dtype=float32>,\n",
              " <tf.Tensor 'Const_11:0' shape=(2, 1) dtype=float32>,\n",
              " TensorShape([Dimension(2), Dimension(2)]),\n",
              " TensorShape([Dimension(2), Dimension(1)]))"
            ]
          },
          "metadata": {
            "tags": []
          },
          "execution_count": 29
        }
      ]
    },
    {
      "cell_type": "code",
      "metadata": {
        "id": "WrnstrU3lUmR",
        "colab_type": "code",
        "outputId": "e887953b-1672-4dce-fcf8-20402408e67c",
        "colab": {
          "base_uri": "https://localhost:8080/",
          "height": 53
        }
      },
      "source": [
        "# 행렬의 곱\n",
        "tf.matmul( matrix1, matrix2 ).eval()"
      ],
      "execution_count": 0,
      "outputs": [
        {
          "output_type": "execute_result",
          "data": {
            "text/plain": [
              "array([[ 50.],\n",
              "       [110.]], dtype=float32)"
            ]
          },
          "metadata": {
            "tags": []
          },
          "execution_count": 33
        }
      ]
    },
    {
      "cell_type": "code",
      "metadata": {
        "id": "ePiykrKzkhg3",
        "colab_type": "code",
        "outputId": "c7ffe159-d6b3-4c3a-9289-1f949ed2626c",
        "colab": {
          "base_uri": "https://localhost:8080/",
          "height": 53
        }
      },
      "source": [
        "(matrix1 * matrix2).eval()"
      ],
      "execution_count": 0,
      "outputs": [
        {
          "output_type": "execute_result",
          "data": {
            "text/plain": [
              "array([[10., 20.],\n",
              "       [60., 80.]], dtype=float32)"
            ]
          },
          "metadata": {
            "tags": []
          },
          "execution_count": 34
        }
      ]
    },
    {
      "cell_type": "code",
      "metadata": {
        "id": "cgvuvGN3khjK",
        "colab_type": "code",
        "colab": {}
      },
      "source": [
        "sess.close()"
      ],
      "execution_count": 0,
      "outputs": []
    },
    {
      "cell_type": "code",
      "metadata": {
        "id": "-tAwyOMVpJLi",
        "colab_type": "code",
        "colab": {}
      },
      "source": [
        ""
      ],
      "execution_count": 0,
      "outputs": []
    },
    {
      "cell_type": "code",
      "metadata": {
        "id": "rp4GmE3EpJQR",
        "colab_type": "code",
        "colab": {}
      },
      "source": [
        ""
      ],
      "execution_count": 0,
      "outputs": []
    },
    {
      "cell_type": "code",
      "metadata": {
        "id": "liekNJXcpJTA",
        "colab_type": "code",
        "colab": {}
      },
      "source": [
        ""
      ],
      "execution_count": 0,
      "outputs": []
    },
    {
      "cell_type": "code",
      "metadata": {
        "id": "bRzS6a-IpJXo",
        "colab_type": "code",
        "colab": {}
      },
      "source": [
        ""
      ],
      "execution_count": 0,
      "outputs": []
    },
    {
      "cell_type": "code",
      "metadata": {
        "id": "AL6pELxtpJas",
        "colab_type": "code",
        "colab": {}
      },
      "source": [
        ""
      ],
      "execution_count": 0,
      "outputs": []
    },
    {
      "cell_type": "code",
      "metadata": {
        "id": "IHre6UrDpJdx",
        "colab_type": "code",
        "colab": {}
      },
      "source": [
        ""
      ],
      "execution_count": 0,
      "outputs": []
    },
    {
      "cell_type": "code",
      "metadata": {
        "id": "OfW5Ed6Fkhl8",
        "colab_type": "code",
        "colab": {}
      },
      "source": [
        ""
      ],
      "execution_count": 0,
      "outputs": []
    }
  ]
}