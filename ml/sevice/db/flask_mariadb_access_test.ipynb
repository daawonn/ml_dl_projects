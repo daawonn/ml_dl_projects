{
 "cells": [
  {
   "cell_type": "markdown",
   "metadata": {},
   "source": [
    "### 파이썬에서 mysql 계열 디비 엑세스\n",
    "\n",
    "- 모듈 : pymysql 사용\n",
    "    - $ conda install pymysql -y"
   ]
  },
  {
   "cell_type": "code",
   "execution_count": 2,
   "metadata": {
    "scrolled": true
   },
   "outputs": [],
   "source": [
    "import pymysql"
   ]
  },
  {
   "cell_type": "code",
   "execution_count": 3,
   "metadata": {},
   "outputs": [],
   "source": [
    "# 1. 접속, 해제\n",
    "# 1-1. 접속 객체 생성 및 접속\n",
    "connection = pymysql.connect(host='localhost',\n",
    "                             user='root',\n",
    "                             password='12341234',\n",
    "                             db='py_db',\n",
    "                             charset='utf8mb4',\n",
    "                             cursorclass=pymysql.cursors.DictCursor)"
   ]
  },
  {
   "cell_type": "code",
   "execution_count": 4,
   "metadata": {},
   "outputs": [],
   "source": [
    "if connection:\n",
    "    connection.close()"
   ]
  },
  {
   "cell_type": "code",
   "execution_count": 5,
   "metadata": {},
   "outputs": [],
   "source": [
    "# 2. 접속, 쿼리, 해제"
   ]
  },
  {
   "cell_type": "code",
   "execution_count": 6,
   "metadata": {},
   "outputs": [],
   "source": [
    "connection = pymysql.connect(host='localhost',\n",
    "                             user='root',\n",
    "                             password='12341234',\n",
    "                             db='py_db',\n",
    "                             charset='utf8mb4',\n",
    "                             cursorclass=pymysql.cursors.DictCursor)\n",
    "try:\n",
    "    # 쿼리\n",
    "    with connection.cursor() as cursor:\n",
    "        # 쿼리문 \n",
    "        sql = '''\n",
    "        INSERT INTO `py_db`.`tbl_trans_lang_log` \n",
    "          (`oCode`, `tCode`, `oStr`, `tStc`) \n",
    "        VALUES \n",
    "          (%s,%s,%s,%s);\n",
    "        '''\n",
    "        # 쿼리수행\n",
    "        cursor.execute(sql, ('en', 'ko', 'hello2', '안녕2') )\n",
    "\n",
    "    # 커밋 수행(디비에 실제 반영)\n",
    "    connection.commit()\n",
    "except Exception as e:\n",
    "    print(e)\n",
    "finally:    \n",
    "    if connection:\n",
    "        connection.close()"
   ]
  },
  {
   "cell_type": "code",
   "execution_count": 7,
   "metadata": {},
   "outputs": [
    {
     "name": "stdout",
     "output_type": "stream",
     "text": [
      "1\n",
      "3 division by zero\n",
      "5\n"
     ]
    }
   ],
   "source": [
    "# 예외처리 => s/w는 죽으면 않된다(->오류가 발생할만한 잠재적인 요인을 가진 부분에는\n",
    "# 모두다 예외처리를 수행해야 한다)\n",
    "try:\n",
    "    print(1)\n",
    "    1/0\n",
    "    print(2)\n",
    "except Exception as e:\n",
    "    print(3, e)\n",
    "else:\n",
    "    print(4)\n",
    "finally:\n",
    "    print(5)"
   ]
  },
  {
   "cell_type": "code",
   "execution_count": 8,
   "metadata": {},
   "outputs": [
    {
     "name": "stdout",
     "output_type": "stream",
     "text": [
      "1\n",
      "2\n",
      "4\n",
      "5\n"
     ]
    }
   ],
   "source": [
    "try:\n",
    "    print(1)\n",
    "    print(2)\n",
    "except Exception as e:\n",
    "    print(3, e)\n",
    "else:\n",
    "    print(4)\n",
    "finally:\n",
    "    print(5)"
   ]
  },
  {
   "cell_type": "code",
   "execution_count": 9,
   "metadata": {},
   "outputs": [
    {
     "name": "stdout",
     "output_type": "stream",
     "text": [
      "0\n",
      "1\n",
      "2\n",
      "3\n",
      "4\n",
      "정상적으로 모두다 반복수행했다\n"
     ]
    }
   ],
   "source": [
    "for n in range(5):\n",
    "    print(n)    \n",
    "else:\n",
    "    print('정상적으로 모두다 반복수행했다')"
   ]
  },
  {
   "cell_type": "code",
   "execution_count": 10,
   "metadata": {},
   "outputs": [
    {
     "name": "stdout",
     "output_type": "stream",
     "text": [
      "0\n",
      "1\n"
     ]
    }
   ],
   "source": [
    "for n in range(5):\n",
    "    if n == 2:break\n",
    "    print(n)    \n",
    "else:\n",
    "    print('정상적으로 모두다 반복수행했다')"
   ]
  },
  {
   "cell_type": "code",
   "execution_count": 11,
   "metadata": {},
   "outputs": [
    {
     "name": "stdout",
     "output_type": "stream",
     "text": [
      "((1, 'en', 'ko', 'hello', '안녕', datetime.datetime(2020, 1, 17, 15, 0, 36)), (2, 'en', 'ko', 'hello2', '안녕2', datetime.datetime(2020, 1, 17, 15, 23, 54)), (3, 'en', 'ko', 'hello2', '안녕2', datetime.datetime(2020, 1, 17, 15, 38, 51)), (4, 'en', 'ko', 'hello2', '안녕2', datetime.datetime(2020, 1, 20, 9, 7, 49)))\n",
      "번열결과 샘플 안녕\n"
     ]
    }
   ],
   "source": [
    "connection = pymysql.connect(host='localhost',\n",
    "                             user='root',\n",
    "                             password='12341234',\n",
    "                             db='py_db',\n",
    "                             charset='utf8mb4'\n",
    "                             )\n",
    "try:\n",
    "    with connection.cursor() as cursor:\n",
    "        sql = 'select * from tbl_trans_lang_log'     \n",
    "        cursor.execute(sql )\n",
    "        # 쿼리 결과를 가져와라\n",
    "        res = cursor.fetchall()\n",
    "        # 테이블의 컬럼 순서가 바뀌면 이것을 사용한 코드도 다 영향을 받는다\n",
    "        print( res )\n",
    "        print( '번열결과 샘플', res[0][4] )\n",
    "except Exception as e:\n",
    "    print(e)\n",
    "finally:    \n",
    "    if connection:\n",
    "        connection.close()"
   ]
  },
  {
   "cell_type": "code",
   "execution_count": 12,
   "metadata": {},
   "outputs": [
    {
     "name": "stdout",
     "output_type": "stream",
     "text": [
      "번열결과 샘플 안녕\n"
     ]
    }
   ],
   "source": [
    "connection = pymysql.connect(host='localhost',\n",
    "                             user='root',\n",
    "                             password='12341234',\n",
    "                             db='py_db',\n",
    "                             charset='utf8mb4',\n",
    "                             cursorclass=pymysql.cursors.DictCursor\n",
    "                             )\n",
    "try:\n",
    "    with connection.cursor() as cursor:\n",
    "        sql = 'select * from tbl_trans_lang_log'     \n",
    "        cursor.execute(sql )\n",
    "        res = cursor.fetchall()\n",
    "        # DictCursor를 사용하면 데이터 한개 (row)가 딕셔너리(순서가 없다)로 오니 키로 뽑으면된다 \n",
    "        # 테이블의 컬럼 순서가 변경되도 영향을 받지 않는다\n",
    "        print( '번열결과 샘플', res[0]['tStc'] )\n",
    "except Exception as e:\n",
    "    print(e)\n",
    "finally:    \n",
    "    if connection:\n",
    "        connection.close()"
   ]
  },
  {
   "cell_type": "code",
   "execution_count": null,
   "metadata": {},
   "outputs": [],
   "source": []
  },
  {
   "cell_type": "code",
   "execution_count": null,
   "metadata": {},
   "outputs": [],
   "source": []
  },
  {
   "cell_type": "code",
   "execution_count": null,
   "metadata": {},
   "outputs": [],
   "source": []
  },
  {
   "cell_type": "code",
   "execution_count": 13,
   "metadata": {},
   "outputs": [],
   "source": [
    "# 3. 접속, 쿼리, 해제 모듈화(함수화)\n",
    "# 3-1 2단계에 구현한 내용을 함수로 작성\n",
    "# 3-2 db 폴더 밑에 __init__.py 파일 생성\n",
    "# 3-3 해당 함수를 __init__.py 파일에 붙여넣기\n",
    "# 3-4 ml/__init__.py에 해당 모듈(위의 함수가 있는)을 가져와서 로그 저장 부분 완성"
   ]
  },
  {
   "cell_type": "code",
   "execution_count": null,
   "metadata": {},
   "outputs": [],
   "source": []
  },
  {
   "cell_type": "code",
   "execution_count": null,
   "metadata": {},
   "outputs": [],
   "source": []
  },
  {
   "cell_type": "code",
   "execution_count": null,
   "metadata": {},
   "outputs": [],
   "source": []
  },
  {
   "cell_type": "code",
   "execution_count": null,
   "metadata": {},
   "outputs": [],
   "source": []
  },
  {
   "cell_type": "code",
   "execution_count": null,
   "metadata": {},
   "outputs": [],
   "source": []
  },
  {
   "cell_type": "code",
   "execution_count": null,
   "metadata": {},
   "outputs": [],
   "source": []
  },
  {
   "cell_type": "code",
   "execution_count": null,
   "metadata": {},
   "outputs": [],
   "source": []
  },
  {
   "cell_type": "code",
   "execution_count": null,
   "metadata": {},
   "outputs": [],
   "source": []
  },
  {
   "cell_type": "code",
   "execution_count": null,
   "metadata": {},
   "outputs": [],
   "source": []
  },
  {
   "cell_type": "code",
   "execution_count": null,
   "metadata": {},
   "outputs": [],
   "source": []
  },
  {
   "cell_type": "code",
   "execution_count": null,
   "metadata": {},
   "outputs": [],
   "source": []
  },
  {
   "cell_type": "code",
   "execution_count": null,
   "metadata": {},
   "outputs": [],
   "source": []
  }
 ],
 "metadata": {
  "kernelspec": {
   "display_name": "Python 3",
   "language": "python",
   "name": "python3"
  },
  "language_info": {
   "codemirror_mode": {
    "name": "ipython",
    "version": 3
   },
   "file_extension": ".py",
   "mimetype": "text/x-python",
   "name": "python",
   "nbconvert_exporter": "python",
   "pygments_lexer": "ipython3",
   "version": "3.7.4"
  }
 },
 "nbformat": 4,
 "nbformat_minor": 2
}
