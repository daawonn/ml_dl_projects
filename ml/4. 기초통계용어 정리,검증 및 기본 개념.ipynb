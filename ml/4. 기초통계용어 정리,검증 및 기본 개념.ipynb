{
 "cells": [
  {
   "cell_type": "markdown",
   "metadata": {},
   "source": [
    "### 통계 모델링 vs 머신러닝 모델"
   ]
  },
  {
   "cell_type": "markdown",
   "metadata": {},
   "source": [
    "|순서|통계|머신러닝|\n",
    "|:--|:--|:--|\n",
    "|1|변수간 관계를 수학식으로 정형화|데이터로부터 학습이 가능한 알고리즘을 사용한다(규칙기반 프로그래밍방식이 필요없다)|\n",
    "|2|전제, 데이터에 맞는 모델 적합화 수행전, 곡선형태를 가정한다(선형,다형..)|주어진 데이터로부터 복잡한 패턴을 스스로 학습한다 -> 곡선형태의 가정은 필요없다|\n",
    "|3|어떻게 표현하는가 : 85% 정확도, 90%의 신뢰수준으로 결과를 예측했다|정확도 86%로 예측했다. 손실함수(회귀쪽의 성능평가지수) 0.5로 수렴했다|\n",
    "|4|P값의 다양한 매개변수 결과를 예측한다|통계적 유의성의 전달을 하지 않는다. 미고려|\n",
    "|5|70:30=훈련:테스트|50:25:25=훈련:검증:테스트|\n",
    "|6|훈련데이터만으로 개발이 가능|훈련/검증데이터 2개가 필요|\n",
    "|7|통계 모델링은 연구 목적, 증명 대부분|실제 환경을 구현|\n",
    "|8|통계학,수학|전산학과|"
   ]
  },
  {
   "cell_type": "markdown",
   "metadata": {},
   "source": [
    "### 통계 기본 이론\n",
    "\n",
    "- 예측 분석학\n",
    "- 대전제는 역사는 반복적이다\n",
    "- 과거 데이터에 대한 적합화를 수행하여 이를 테스트\n",
    "    - 결과 성능에 대한 척도가 검증되면 동일 모델에 대해서 미래 예측에 활용\n",
    "- 독립 변수\n",
    "    - 관측치, 입력변수, 특징, feature, 설명변수\n",
    "- 종속 변수\n",
    "    - 결과변수, 반응변수, 응답변수, 설명된변수, 측정된변수, 레이블, 실험변수 등등\n",
    "- 변수들로 이루어진 수학식\n",
    "    - 이를 이용하여 계산후 실제에 적용\n",
    "    - 이를 통해서 추정을 한다 -> 통계 학문\n",
    "- 가정\n",
    "    - 항상 모든 변수들이 만족해야하는 기본 가정으로부터 시작한다.\n",
    "    "
   ]
  },
  {
   "cell_type": "markdown",
   "metadata": {},
   "source": [
    "### 기술 통계 용어 정리\n",
    "\n",
    "<img src ='./table/s_0.png' width=400>"
   ]
  },
  {
   "cell_type": "markdown",
   "metadata": {},
   "source": [
    "- 모집단 : \n",
    "    - 데이터 **전체**, 관측값 전체, 연구중 데이터 전체\n",
    "- 표본 :\n",
    "    - 모집단의 부분집합, 분석 중 모집단의 일부\n",
    "    - 모집단 전수 분석은 비용이 많이 발생 (시간,돈,..) 표본으로 조사후 모집단의 결론에 도달하는 방식\n",
    "- 매개변수 :\n",
    "    - 모집단에 관해서 계산하는 척도"
   ]
  },
  {
   "cell_type": "markdown",
   "metadata": {},
   "source": [
    "<img src ='./table/s_1.png' width=400>"
   ]
  },
  {
   "cell_type": "markdown",
   "metadata": {},
   "source": [
    "- 통계량\n",
    "    - 표본에 대한 통계량\n",
    "- 평균\n",
    "    - 산술평균(모든값을 더하고 개수로 나눈다)\n",
    "    - 함정 => 이상치(특이값)이 있으면 값이 튄다\n",
    "- 중간값\n",
    "    - 데이터의 중간지점, 데이터를 오름/내림 차순으로 정렬후 가운데값\n",
    "- 최빈값\n",
    "    - 데이터 중에서 빈번하게 반복되는 데이터 포인트"
   ]
  },
  {
   "cell_type": "code",
   "execution_count": 5,
   "metadata": {},
   "outputs": [],
   "source": [
    "#  scipy를 이용하여 통계처리\n",
    "from scipy import stats\n",
    "import numpy as np"
   ]
  },
  {
   "cell_type": "code",
   "execution_count": 9,
   "metadata": {},
   "outputs": [],
   "source": [
    "# 모집합(데이터 전체)\n",
    "# 단, 데이터수가 적어서 표본을 쓰지는 않겠다\n",
    "data =[1,4,6,3,5,6,8,8,4,2,9,3,5,6,7,3,5,3,9,6,2,1,7,7,4,2,3]"
   ]
  },
  {
   "cell_type": "code",
   "execution_count": 10,
   "metadata": {},
   "outputs": [],
   "source": [
    "# 리스트 데이터는 배열로 변환한다 (scipy의 기본 베이스는 numpy 이고 numpy의 기본자료구조는 배열(array)이다)\n",
    "data = np.array( data )"
   ]
  },
  {
   "cell_type": "code",
   "execution_count": 13,
   "metadata": {},
   "outputs": [
    {
     "data": {
      "text/plain": [
       "(4.777777777777778, 4.78)"
      ]
     },
     "execution_count": 13,
     "metadata": {},
     "output_type": "execute_result"
    }
   ],
   "source": [
    "# 평균\n",
    "mean_data = np.mean(data), round((mean_data),2)\n",
    "mean_data"
   ]
  },
  {
   "cell_type": "code",
   "execution_count": 14,
   "metadata": {},
   "outputs": [
    {
     "data": {
      "text/plain": [
       "5.0"
      ]
     },
     "execution_count": 14,
     "metadata": {},
     "output_type": "execute_result"
    }
   ],
   "source": [
    "# 중간값\n",
    "median_data = np.median(data)\n",
    "median_data"
   ]
  },
  {
   "cell_type": "code",
   "execution_count": 17,
   "metadata": {},
   "outputs": [
    {
     "data": {
      "text/plain": [
       "3"
      ]
     },
     "execution_count": 17,
     "metadata": {},
     "output_type": "execute_result"
    }
   ],
   "source": [
    "# 최빈값\n",
    "mode_data = stats.mode(data)\n",
    "mode_data[0][0]"
   ]
  },
  {
   "cell_type": "code",
   "execution_count": 18,
   "metadata": {},
   "outputs": [
    {
     "name": "stderr",
     "output_type": "stream",
     "text": [
      "C:\\Users\\admin\\Anaconda3\\lib\\importlib\\_bootstrap.py:219: RuntimeWarning: numpy.ufunc size changed, may indicate binary incompatibility. Expected 192 from C header, got 216 from PyObject\n",
      "  return f(*args, **kwds)\n",
      "C:\\Users\\admin\\Anaconda3\\lib\\importlib\\_bootstrap.py:219: RuntimeWarning: numpy.ufunc size changed, may indicate binary incompatibility. Expected 192 from C header, got 216 from PyObject\n",
      "  return f(*args, **kwds)\n"
     ]
    }
   ],
   "source": [
    "import pandas as pd"
   ]
  },
  {
   "cell_type": "code",
   "execution_count": 19,
   "metadata": {},
   "outputs": [
    {
     "data": {
      "text/html": [
       "<div>\n",
       "<style scoped>\n",
       "    .dataframe tbody tr th:only-of-type {\n",
       "        vertical-align: middle;\n",
       "    }\n",
       "\n",
       "    .dataframe tbody tr th {\n",
       "        vertical-align: top;\n",
       "    }\n",
       "\n",
       "    .dataframe thead th {\n",
       "        text-align: right;\n",
       "    }\n",
       "</style>\n",
       "<table border=\"1\" class=\"dataframe\">\n",
       "  <thead>\n",
       "    <tr style=\"text-align: right;\">\n",
       "      <th></th>\n",
       "      <th>0</th>\n",
       "    </tr>\n",
       "  </thead>\n",
       "  <tbody>\n",
       "    <tr>\n",
       "      <td>count</td>\n",
       "      <td>27.000000</td>\n",
       "    </tr>\n",
       "    <tr>\n",
       "      <td>mean</td>\n",
       "      <td>4.777778</td>\n",
       "    </tr>\n",
       "    <tr>\n",
       "      <td>std</td>\n",
       "      <td>2.375084</td>\n",
       "    </tr>\n",
       "    <tr>\n",
       "      <td>min</td>\n",
       "      <td>1.000000</td>\n",
       "    </tr>\n",
       "    <tr>\n",
       "      <td>25%</td>\n",
       "      <td>3.000000</td>\n",
       "    </tr>\n",
       "    <tr>\n",
       "      <td>50%</td>\n",
       "      <td>5.000000</td>\n",
       "    </tr>\n",
       "    <tr>\n",
       "      <td>75%</td>\n",
       "      <td>6.500000</td>\n",
       "    </tr>\n",
       "    <tr>\n",
       "      <td>max</td>\n",
       "      <td>9.000000</td>\n",
       "    </tr>\n",
       "  </tbody>\n",
       "</table>\n",
       "</div>"
      ],
      "text/plain": [
       "               0\n",
       "count  27.000000\n",
       "mean    4.777778\n",
       "std     2.375084\n",
       "min     1.000000\n",
       "25%     3.000000\n",
       "50%     5.000000\n",
       "75%     6.500000\n",
       "max     9.000000"
      ]
     },
     "execution_count": 19,
     "metadata": {},
     "output_type": "execute_result"
    }
   ],
   "source": [
    "df = pd.DataFrame(data)\n",
    "df.describe()"
   ]
  },
  {
   "cell_type": "markdown",
   "metadata": {},
   "source": [
    "### 산포도\n",
    "\n",
    "- 산포\n",
    "    - 데이터가 얼마나 퍼져 있는가?(변량)\n",
    "    - 데이터 변수가 얼마나 부적합한 값을 가지고 있는지 측정\n",
    "    - 데이터가 중심에 모이지 않고 얼마나 흩어져있는지 제공\n",
    "    \n",
    "- 범위\n",
    "    - 최대값, 최소값의 차이\n",
    "    \n",
    "- 분산\n",
    "    - 평균과 관측값의 차이를 제곱한 값들의 평균\n",
    "    - 기대값으로부터 얼마나 떨어진곳에 데이터가 분포하는지 가능하는 수치이다\n",
    "    \n",
    "- 표준편차\n",
    "    - 분산의 제곱근\n",
    "    - 분산보다 더 많이 활용된다\n",
    "    \n",
    "- 분위수\n",
    "    - 데이터를 동일한 조각으로 분할\n",
    "    - 백분위 \n",
    "        - 퍼센테이지\n",
    "        - 중간값 : 50%\n",
    "    - 십분위\n",
    "        - 10번째 백분위, 전체 데이터의 10% 지점\n",
    "    - 사분위\n",
    "        - 전체를 4등분\n",
    "        - 첫번째 4분위 : 25% 지점\n",
    "    - IQR 범위\n",
    "        - 1사분위와 3사분위의 차이값\n",
    "        - 데이터의 중간값을 보고, 이상값을 찾아낼때 효과적으로 사용\n",
    "        - 중간값(50%)이 속한 데이터 포인트\n",
    "    <img src = './table/s_2.png' width=400>"
   ]
  },
  {
   "cell_type": "markdown",
   "metadata": {},
   "source": [
    "### 정규분포\n",
    "<img src = './table/확률변수_정규분포.jpg' width=350>"
   ]
  },
  {
   "cell_type": "markdown",
   "metadata": {},
   "source": [
    "- 동전을 두번 던진다. 동전은 앞면(H), 뒷면(T)\n",
    "- 동전을 두번 던졌을때 나올수 있는 경우의수 => S = {HH,HT,HT,TT}이다 \n",
    "    - 정의역, 표본공간, S\n",
    "- 동전을 두번 던졌을때 앞면이 나오는 CASE는?\n",
    "    - HH -> 2, HT,TH -> 1, TT -> 0 에 대응 되었다\n",
    "    - 0,1,2, 이것을 실수 공간 값들중에서 HH가 2에 대응하고, HT, TH는 1에 대응하도록\n",
    "    - 규칙, 대응식등 이런것을 정의하는 대응방식 => 관계를 정의하는 함수 => 확률변수\n",
    "- 실수 공간(공역)의 어떤 값이 표본공간(S)의 원소들과 어떻게 연결할지를 정의하는 함수\n",
    "    - 확률변수\n",
    "    - 정의역이 표본공간이고, 공역이 실수 전체의 집합인 함수가 확률변수이다.\n",
    "- 이산확률변수\n",
    "    - 실수 공간(공역)을 셀수 있다면 그때의 확률 변수를 이산확률변수라 한다\n",
    "    - 0, 1, 2\n",
    "- **확률분포**\n",
    "    - 위의 케이스에서 0, 1, 2 정의역으로 보고 확률 1/2, 1/4를 공역으로 보았을때,\n",
    "    - 2개가 연결되는, 대응되는 관계 => 함수 => 확률분포"
   ]
  },
  {
   "cell_type": "markdown",
   "metadata": {},
   "source": [
    "- 정규분포\n",
    "    - 가우시안 분포\n",
    "    - 연속확률분포의 하나\n",
    "    - 정규 분포는 수집된자료(표본)의 분포를 근사하는데 사용\n",
    "    \n",
    "    <img src = 'https://dbscthumb-phinf.pstatic.net/3955_000_1/20180117204955049_YSJZ89FTU.gif/RecApprox.gif?type=w646_fst_n' width=400>\n",
    "    - 특징\n",
    "        - 중심극한정리 : 독립적인 확률변수들의 평균이 정규분포에 가까워지려고 하는 성질이 있다.\n",
    "        - 입학 시험 점수가 정규 분포를 따른다\n",
    "        - 평균 점수가 52점이다. 표준편차16.3 인 경우\n",
    "        - 몇 %가 67점 이상을 받을 것인가? \n",
    "        <img src = './table/s_4.png' width=300>"
   ]
  },
  {
   "cell_type": "code",
   "execution_count": 23,
   "metadata": {},
   "outputs": [],
   "source": [
    "xbar = 67\n",
    "mu   = 52\n",
    "s    = 16.3"
   ]
  },
  {
   "cell_type": "code",
   "execution_count": 24,
   "metadata": {},
   "outputs": [
    {
     "data": {
      "text/plain": [
       "0.920245398773006"
      ]
     },
     "execution_count": 24,
     "metadata": {},
     "output_type": "execute_result"
    }
   ],
   "source": [
    "# z-score 표준값\n",
    "# 정규분포를 만들고, 개개인의 경우가 표준편차상의 어떤 위치를 차지하는지 보여주는 수치\n",
    "z = (xbar-mu)/s\n",
    "z"
   ]
  },
  {
   "cell_type": "code",
   "execution_count": 25,
   "metadata": {},
   "outputs": [
    {
     "data": {
      "text/plain": [
       "17.87"
      ]
     },
     "execution_count": 25,
     "metadata": {},
     "output_type": "execute_result"
    }
   ],
   "source": [
    "# 67점이상의 면적이 어떻게 되는가? => 곡선하 확률 면적 계산\n",
    "p = 1 - stats.norm.cdf(z)\n",
    "round(p*100,2)"
   ]
  },
  {
   "cell_type": "markdown",
   "metadata": {},
   "source": [
    "### 카이제곱검정\n",
    "\n",
    "- 범주형 데이터의 통계 분석시 사용\n",
    "- 2개의 범주형 변수 X, Y 가 있다.\n",
    "- 두개의 변수 사이의 통계적인 상관성이 존재하는가?"
   ]
  },
  {
   "cell_type": "code",
   "execution_count": 26,
   "metadata": {},
   "outputs": [],
   "source": [
    "import pandas as pd\n",
    "from scipy import stats"
   ]
  },
  {
   "cell_type": "code",
   "execution_count": 50,
   "metadata": {},
   "outputs": [
    {
     "data": {
      "text/plain": [
       "(237, 12)"
      ]
     },
     "execution_count": 50,
     "metadata": {},
     "output_type": "execute_result"
    }
   ],
   "source": [
    "survey = pd.read_csv('./table/survey.csv')\n",
    "survey.shape"
   ]
  },
  {
   "cell_type": "code",
   "execution_count": 51,
   "metadata": {},
   "outputs": [
    {
     "data": {
      "text/html": [
       "<div>\n",
       "<style scoped>\n",
       "    .dataframe tbody tr th:only-of-type {\n",
       "        vertical-align: middle;\n",
       "    }\n",
       "\n",
       "    .dataframe tbody tr th {\n",
       "        vertical-align: top;\n",
       "    }\n",
       "\n",
       "    .dataframe thead th {\n",
       "        text-align: right;\n",
       "    }\n",
       "</style>\n",
       "<table border=\"1\" class=\"dataframe\">\n",
       "  <thead>\n",
       "    <tr style=\"text-align: right;\">\n",
       "      <th></th>\n",
       "      <th>Sex</th>\n",
       "      <th>Wr.Hnd</th>\n",
       "      <th>NW.Hnd</th>\n",
       "      <th>W.Hnd</th>\n",
       "      <th>Fold</th>\n",
       "      <th>Pulse</th>\n",
       "      <th>Clap</th>\n",
       "      <th>Exer</th>\n",
       "      <th>Smoke</th>\n",
       "      <th>Height</th>\n",
       "      <th>M.I</th>\n",
       "      <th>Age</th>\n",
       "    </tr>\n",
       "  </thead>\n",
       "  <tbody>\n",
       "    <tr>\n",
       "      <td>0</td>\n",
       "      <td>Female</td>\n",
       "      <td>18.5</td>\n",
       "      <td>18.0</td>\n",
       "      <td>Right</td>\n",
       "      <td>R on L</td>\n",
       "      <td>92.0</td>\n",
       "      <td>Left</td>\n",
       "      <td>Some</td>\n",
       "      <td>Never</td>\n",
       "      <td>173.0</td>\n",
       "      <td>Metric</td>\n",
       "      <td>18.250</td>\n",
       "    </tr>\n",
       "    <tr>\n",
       "      <td>1</td>\n",
       "      <td>Male</td>\n",
       "      <td>19.5</td>\n",
       "      <td>20.5</td>\n",
       "      <td>Left</td>\n",
       "      <td>R on L</td>\n",
       "      <td>104.0</td>\n",
       "      <td>Left</td>\n",
       "      <td>None</td>\n",
       "      <td>Regul</td>\n",
       "      <td>177.8</td>\n",
       "      <td>Imperial</td>\n",
       "      <td>17.583</td>\n",
       "    </tr>\n",
       "  </tbody>\n",
       "</table>\n",
       "</div>"
      ],
      "text/plain": [
       "      Sex  Wr.Hnd  NW.Hnd  W.Hnd    Fold  Pulse  Clap  Exer  Smoke  Height  \\\n",
       "0  Female    18.5    18.0  Right  R on L   92.0  Left  Some  Never   173.0   \n",
       "1    Male    19.5    20.5   Left  R on L  104.0  Left  None  Regul   177.8   \n",
       "\n",
       "        M.I     Age  \n",
       "0    Metric  18.250  \n",
       "1  Imperial  17.583  "
      ]
     },
     "execution_count": 51,
     "metadata": {},
     "output_type": "execute_result"
    }
   ],
   "source": [
    "survey.head(2)"
   ]
  },
  {
   "cell_type": "code",
   "execution_count": 52,
   "metadata": {},
   "outputs": [
    {
     "data": {
      "text/plain": [
       "array(['Never', 'Regul', 'Occas', 'Heavy', nan], dtype=object)"
      ]
     },
     "execution_count": 52,
     "metadata": {},
     "output_type": "execute_result"
    }
   ],
   "source": [
    "# 흡연 항목의 데이터\n",
    "survey.Smoke.unique()"
   ]
  },
  {
   "cell_type": "code",
   "execution_count": 53,
   "metadata": {},
   "outputs": [
    {
     "data": {
      "text/plain": [
       "array(['Some', 'None', 'Freq'], dtype=object)"
      ]
     },
     "execution_count": 53,
     "metadata": {},
     "output_type": "execute_result"
    }
   ],
   "source": [
    "survey.Exer.unique()"
   ]
  },
  {
   "cell_type": "code",
   "execution_count": 54,
   "metadata": {},
   "outputs": [
    {
     "data": {
      "text/html": [
       "<div>\n",
       "<style scoped>\n",
       "    .dataframe tbody tr th:only-of-type {\n",
       "        vertical-align: middle;\n",
       "    }\n",
       "\n",
       "    .dataframe tbody tr th {\n",
       "        vertical-align: top;\n",
       "    }\n",
       "\n",
       "    .dataframe thead th {\n",
       "        text-align: right;\n",
       "    }\n",
       "</style>\n",
       "<table border=\"1\" class=\"dataframe\">\n",
       "  <thead>\n",
       "    <tr style=\"text-align: right;\">\n",
       "      <th>Exer</th>\n",
       "      <th>Freq</th>\n",
       "      <th>None</th>\n",
       "      <th>Some</th>\n",
       "      <th>All</th>\n",
       "    </tr>\n",
       "    <tr>\n",
       "      <th>Smoke</th>\n",
       "      <th></th>\n",
       "      <th></th>\n",
       "      <th></th>\n",
       "      <th></th>\n",
       "    </tr>\n",
       "  </thead>\n",
       "  <tbody>\n",
       "    <tr>\n",
       "      <td>Heavy</td>\n",
       "      <td>7</td>\n",
       "      <td>1</td>\n",
       "      <td>3</td>\n",
       "      <td>11</td>\n",
       "    </tr>\n",
       "    <tr>\n",
       "      <td>Never</td>\n",
       "      <td>87</td>\n",
       "      <td>18</td>\n",
       "      <td>84</td>\n",
       "      <td>189</td>\n",
       "    </tr>\n",
       "    <tr>\n",
       "      <td>Occas</td>\n",
       "      <td>12</td>\n",
       "      <td>3</td>\n",
       "      <td>4</td>\n",
       "      <td>19</td>\n",
       "    </tr>\n",
       "    <tr>\n",
       "      <td>Regul</td>\n",
       "      <td>9</td>\n",
       "      <td>1</td>\n",
       "      <td>7</td>\n",
       "      <td>17</td>\n",
       "    </tr>\n",
       "    <tr>\n",
       "      <td>All</td>\n",
       "      <td>115</td>\n",
       "      <td>23</td>\n",
       "      <td>98</td>\n",
       "      <td>236</td>\n",
       "    </tr>\n",
       "  </tbody>\n",
       "</table>\n",
       "</div>"
      ],
      "text/plain": [
       "Exer   Freq  None  Some  All\n",
       "Smoke                       \n",
       "Heavy     7     1     3   11\n",
       "Never    87    18    84  189\n",
       "Occas    12     3     4   19\n",
       "Regul     9     1     7   17\n",
       "All     115    23    98  236"
      ]
     },
     "execution_count": 54,
     "metadata": {},
     "output_type": "execute_result"
    }
   ],
   "source": [
    "# 목적 : Smoke 항목과 Exer 항목간의 상관성을 검정한다.\n",
    "# 빈도, 특정 변수에 대해 특정 변수 값의 빈도를 재구성\n",
    "# smoke 의 Never라는 값이 Exer의 Some 일때 몇번, None 일때 몇번, Freq 일때 몇번인지 구성\n",
    "# 인덱스가 Smoke의 값(Nan 제거, 4개) 컬럼이 Exer의 값(3개) = 4x3\n",
    "tmp = pd.crosstab( survey.Smoke, survey.Exer, margins=True)\n",
    "tmp"
   ]
  },
  {
   "cell_type": "code",
   "execution_count": 55,
   "metadata": {},
   "outputs": [],
   "source": [
    "# all 항목을 모두 제거 => shape의 최종 형태 (4,3)\n",
    "# 한번에 하는 방법 => tmp.iloc[ :-1 , :-1]\n",
    "tmp = tmp.drop(columns=['All'])"
   ]
  },
  {
   "cell_type": "code",
   "execution_count": 56,
   "metadata": {},
   "outputs": [
    {
     "data": {
      "text/html": [
       "<div>\n",
       "<style scoped>\n",
       "    .dataframe tbody tr th:only-of-type {\n",
       "        vertical-align: middle;\n",
       "    }\n",
       "\n",
       "    .dataframe tbody tr th {\n",
       "        vertical-align: top;\n",
       "    }\n",
       "\n",
       "    .dataframe thead th {\n",
       "        text-align: right;\n",
       "    }\n",
       "</style>\n",
       "<table border=\"1\" class=\"dataframe\">\n",
       "  <thead>\n",
       "    <tr style=\"text-align: right;\">\n",
       "      <th>Exer</th>\n",
       "      <th>Freq</th>\n",
       "      <th>None</th>\n",
       "      <th>Some</th>\n",
       "    </tr>\n",
       "    <tr>\n",
       "      <th>Smoke</th>\n",
       "      <th></th>\n",
       "      <th></th>\n",
       "      <th></th>\n",
       "    </tr>\n",
       "  </thead>\n",
       "  <tbody>\n",
       "    <tr>\n",
       "      <td>Heavy</td>\n",
       "      <td>7</td>\n",
       "      <td>1</td>\n",
       "      <td>3</td>\n",
       "    </tr>\n",
       "    <tr>\n",
       "      <td>Never</td>\n",
       "      <td>87</td>\n",
       "      <td>18</td>\n",
       "      <td>84</td>\n",
       "    </tr>\n",
       "    <tr>\n",
       "      <td>Occas</td>\n",
       "      <td>12</td>\n",
       "      <td>3</td>\n",
       "      <td>4</td>\n",
       "    </tr>\n",
       "    <tr>\n",
       "      <td>Regul</td>\n",
       "      <td>9</td>\n",
       "      <td>1</td>\n",
       "      <td>7</td>\n",
       "    </tr>\n",
       "    <tr>\n",
       "      <td>All</td>\n",
       "      <td>115</td>\n",
       "      <td>23</td>\n",
       "      <td>98</td>\n",
       "    </tr>\n",
       "  </tbody>\n",
       "</table>\n",
       "</div>"
      ],
      "text/plain": [
       "Exer   Freq  None  Some\n",
       "Smoke                  \n",
       "Heavy     7     1     3\n",
       "Never    87    18    84\n",
       "Occas    12     3     4\n",
       "Regul     9     1     7\n",
       "All     115    23    98"
      ]
     },
     "execution_count": 56,
     "metadata": {},
     "output_type": "execute_result"
    }
   ],
   "source": [
    "tmp"
   ]
  },
  {
   "cell_type": "code",
   "execution_count": 57,
   "metadata": {},
   "outputs": [],
   "source": [
    "src_df = tmp.drop(['All'])"
   ]
  },
  {
   "cell_type": "code",
   "execution_count": 60,
   "metadata": {
    "scrolled": true
   },
   "outputs": [
    {
     "data": {
      "text/plain": [
       "0.48"
      ]
     },
     "execution_count": 60,
     "metadata": {},
     "output_type": "execute_result"
    }
   ],
   "source": [
    "# p값 획득\n",
    "p_value = stats.chi2_contingency(observed=src_df)\n",
    "p_value = round(p_value[1],2)\n",
    "p_value"
   ]
  },
  {
   "cell_type": "code",
   "execution_count": 62,
   "metadata": {},
   "outputs": [
    {
     "name": "stdout",
     "output_type": "stream",
     "text": [
      "두 변수는 서로 독립적이다. 관계가 없다\n"
     ]
    }
   ],
   "source": [
    "# 0.05 : 임계값\n",
    "# 판단\n",
    "if p_value < 0.05 :\n",
    "    print('강한 상관관계')\n",
    "else:\n",
    "    print('두 변수는 서로 독립적이다. 관계가 없다')    "
   ]
  },
  {
   "cell_type": "markdown",
   "metadata": {},
   "source": [
    "### 가설 검정\n",
    "\n",
    "- 표본에 통계적 테스트를 수행시, 전체 모집단에 대한 추론을 만드는 과정\n",
    "- 귀무가설\n",
    "    - 검정을 직접 수행하기가 어렵다. 불가능 하다\n",
    "    - 처음부터 이 가설은 버릴것으로 예상하고 만드는 가설\n",
    "    - 통계학적으로 증거를 통해 증명하려는 가설\n",
    "    - ex) 경찰\n",
    "        - 범죄사건에서 용의자가 있을때 용의자가 범죄를 저질렀다고 생각 => 추정의 대립가설을 세운다\n",
    "        - 귀무가설 : 이 용의자는 범인이 아니다(무죄)\n",
    "- 대립가설\n",
    "    - 검정을 직접 수행하기가 어렵다. 불가능 하다\n",
    "    - 귀무가설을 기각함으로써 받아들여지는 반증의 과정이자 결론"
   ]
  },
  {
   "cell_type": "markdown",
   "metadata": {},
   "source": [
    "- p값\n",
    "    - 귀무가설이 옳다는 전제하에서\n",
    "    - 표본에서 실제로 관측된 통계값과 같거나 더 극단적인 통계값이 관측될 확률\n",
    "    - p 값이 작을수록 귀무가설에 반하는 강력한 증거이다\n",
    "    - p 값은 귀무가설에 반하는 증거를 측정하는 수치(확률)\n",
    "        - 귀무가설 설립\n",
    "        - 표본 추출\n",
    "        - 표본에 대한 통계량을 구한다\n",
    "        - 귀무가설이 통계적으로 유의한지 확인\n",
    "            - 기각 or 채택\n",
    "        \n",
    "- 유의수준\n",
    "    - 판단의 기준이 되는 임계값(치)\n",
    "    - 유의수준을 a라고 하고 95%의 신뢰수준이라고 한다면\n",
    "    - a(유의수준) = 1-0.95 = 0.05\n",
    "    \n",
    "- 예\n",
    "    - 과자공장 A 사\n",
    "    - 제품 B의 중량 1000g 이상이다\n",
    "    - 증명\n",
    "        - 표본 : 과자 30개를 무작위로 랜덤추출, 무게를 측정. 평균을 계산\n",
    "        - 측정된 평균값 : 990g\n",
    "        - 표준편차 : 분산(평균과 관측값의 차이)의 제곱근  => 12.5g\n",
    "        - 유의수준 5 % : 0.05로 설정\n",
    "        - A사의 주장을 기각할수 있겠는가?\n",
    "    - 귀무가설\n",
    "        - 제품 B의(과자) 중량은 1000g 보다 크거나 같다\n",
    "    - 대립가설\n",
    "        - 중량은 1000g 보다 작다\n",
    "        <img src = './table/s_3.png' width=400>"
   ]
  },
  {
   "cell_type": "code",
   "execution_count": 65,
   "metadata": {},
   "outputs": [],
   "source": [
    "from scipy import stats"
   ]
  },
  {
   "cell_type": "code",
   "execution_count": 66,
   "metadata": {},
   "outputs": [],
   "source": [
    "xbar = 990    # 측정된 표본의 평균\n",
    "mu   = 1000   # 귀무가설의 임계값\n",
    "s    = 12.5   # 표준편차\n",
    "n    = 30     # 표본의 갯수"
   ]
  },
  {
   "cell_type": "code",
   "execution_count": 68,
   "metadata": {},
   "outputs": [],
   "source": [
    "# t 검정 통계값\n",
    "t_sample = (xbar - mu) /(s/np.sqrt(float(n)))"
   ]
  },
  {
   "cell_type": "code",
   "execution_count": 69,
   "metadata": {},
   "outputs": [
    {
     "data": {
      "text/plain": [
       "7.035025729010886e-05"
      ]
     },
     "execution_count": 69,
     "metadata": {},
     "output_type": "execute_result"
    }
   ],
   "source": [
    "p_value = stats.t.sf(np.abs(t_sample), n-1)\n",
    "p_value"
   ]
  },
  {
   "cell_type": "code",
   "execution_count": 70,
   "metadata": {},
   "outputs": [
    {
     "data": {
      "text/plain": [
       "-1.6991270265334977"
      ]
     },
     "execution_count": 70,
     "metadata": {},
     "output_type": "execute_result"
    }
   ],
   "source": [
    "# 유의수준 -> t- 분포임계값을 구할 수 있다.\n",
    "alpha = 0.05\n",
    "# t 분포 임계값\n",
    "t_alpha = stats.t.ppf(alpha, n-1)\n",
    "t_alpha"
   ]
  },
  {
   "cell_type": "code",
   "execution_count": 71,
   "metadata": {},
   "outputs": [
    {
     "name": "stdout",
     "output_type": "stream",
     "text": [
      "귀무가설 기각 => 제품 B는 1000g 이하이다\n"
     ]
    }
   ],
   "source": [
    "if p_value < alpha :\n",
    "    print('귀무가설 기각 => 제품 B는 1000g 이하이다')\n",
    "else :\n",
    "    print('귀무가설을 채택한다')"
   ]
  },
  {
   "cell_type": "markdown",
   "metadata": {},
   "source": [
    "### 판단\n",
    "\n",
    "- 귀무가설 기각\n"
   ]
  },
  {
   "cell_type": "markdown",
   "metadata": {},
   "source": [
    "### 아노바 분산검정 (변량분산분석) => 변량이 여러개인경우 다변량분산분석(MANOVA)\n",
    "\n",
    "- 둘 이상의 모집단의 평균이 서로 동일한지 테스트\n",
    "- 귀무가설\n",
    "    - 모든 모집단의 평균은 동일하다\n",
    "- 대립가설\n",
    "    - 최소 하나의 모집단의 평균은 다르다\n",
    "- 사례\n",
    "    - 화학회사에서 오랜시간 연구를 수행\n",
    "    - 모든 농작물에 적용이 가능한 슈퍼비료(만능비료)를 개발\n",
    "    - 여러 작물에 적용을 하면 비슷한 수확량을 구하는지 데이터를 획득(fetilizers.csv)\n",
    "    - 여러 작물에 각각 적용해서 효과를 테스트 했다"
   ]
  },
  {
   "cell_type": "code",
   "execution_count": 75,
   "metadata": {},
   "outputs": [],
   "source": [
    "import pandas as pd\n",
    "from scipy import stats"
   ]
  },
  {
   "cell_type": "code",
   "execution_count": 76,
   "metadata": {},
   "outputs": [
    {
     "data": {
      "text/plain": [
       "(6, 3)"
      ]
     },
     "execution_count": 76,
     "metadata": {},
     "output_type": "execute_result"
    }
   ],
   "source": [
    "df = pd.read_csv('./table/fetilizers.csv')\n",
    "df.shape"
   ]
  },
  {
   "cell_type": "code",
   "execution_count": 77,
   "metadata": {},
   "outputs": [
    {
     "data": {
      "text/plain": [
       "F_onewayResult(statistic=3.6634935025687523, pvalue=0.05063590143901569)"
      ]
     },
     "execution_count": 77,
     "metadata": {},
     "output_type": "execute_result"
    }
   ],
   "source": [
    "# 아노바 분산\n",
    "anova = stats.f_oneway(df[df.columns[0]],df[df.columns[1]],df[df.columns[2]])\n",
    "anova"
   ]
  },
  {
   "cell_type": "code",
   "execution_count": 79,
   "metadata": {},
   "outputs": [
    {
     "data": {
      "text/plain": [
       "0.051"
      ]
     },
     "execution_count": 79,
     "metadata": {},
     "output_type": "execute_result"
    }
   ],
   "source": [
    "p_value = round(anova[1],3)\n",
    "p_value"
   ]
  },
  {
   "cell_type": "markdown",
   "metadata": {},
   "source": [
    "- 귀무가설 : 작물에 따라서 비료의 효과가 차이가 없다\n",
    "- 대립가설 : 작물에 따라서 비료의 효과가 차이가 있다"
   ]
  },
  {
   "cell_type": "code",
   "execution_count": 80,
   "metadata": {},
   "outputs": [
    {
     "name": "stdout",
     "output_type": "stream",
     "text": [
      "귀무가설 기각 0.0006359014390156861 왼쪽 수치만큼만 향상시키면 성립\n"
     ]
    }
   ],
   "source": [
    "if p_value < 0.05 :\n",
    "    print('귀무가설 채택')\n",
    "else :\n",
    "    print('귀무가설 기각', anova[1]-0.05, '왼쪽 수치만큼만 향상시키면 성립')"
   ]
  }
 ],
 "metadata": {
  "kernelspec": {
   "display_name": "Python 3",
   "language": "python",
   "name": "python3"
  },
  "language_info": {
   "codemirror_mode": {
    "name": "ipython",
    "version": 3
   },
   "file_extension": ".py",
   "mimetype": "text/x-python",
   "name": "python",
   "nbconvert_exporter": "python",
   "pygments_lexer": "ipython3",
   "version": "3.7.4"
  }
 },
 "nbformat": 4,
 "nbformat_minor": 2
}
