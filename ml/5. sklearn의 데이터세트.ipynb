{
 "cells": [
  {
   "cell_type": "markdown",
   "metadata": {},
   "source": [
    "### sklearn.datasets\n",
    "\n",
    "- 모형 실습을 위해서 예제 데이터 세트를 제공\n",
    "- 3가지로 분류\n",
    "    - load  계열 : 기본적으로 이미 저장되어있는 데이터 -> 용량이 작다\n",
    "    - fetch 계열 : 인터넷에서 캐쉬되어 다운로드 -> 용량이 크다\n",
    "    - make  계열 : 가상의 데이터 셋을 생성 -> 더미 데이터 생성"
   ]
  },
  {
   "cell_type": "code",
   "execution_count": 1,
   "metadata": {},
   "outputs": [
    {
     "name": "stderr",
     "output_type": "stream",
     "text": [
      "C:\\Users\\admin\\Anaconda3\\lib\\importlib\\_bootstrap.py:219: RuntimeWarning: numpy.ufunc size changed, may indicate binary incompatibility. Expected 192 from C header, got 216 from PyObject\n",
      "  return f(*args, **kwds)\n",
      "C:\\Users\\admin\\Anaconda3\\lib\\importlib\\_bootstrap.py:219: RuntimeWarning: numpy.ufunc size changed, may indicate binary incompatibility. Expected 192 from C header, got 216 from PyObject\n",
      "  return f(*args, **kwds)\n"
     ]
    }
   ],
   "source": [
    "import sklearn.datasets as mls"
   ]
  },
  {
   "cell_type": "markdown",
   "metadata": {},
   "source": [
    "#### load()\n",
    "\n",
    "- 작은 데이터 부터 큰것까지 다양\n",
    "- 작은것들은 패키지에 이미 배포, 큰것은 요청시 다운로드해서 제공\n",
    "- 종류\n",
    "    - load.boston          : 보스턴 집값      => 회귀분석\n",
    "    - load_breast_cancer   : 유방암 진단 자료 => 분류\n",
    "    - load_diabetes        : 당뇨병           => 회귀분석 \n",
    "    - load_digits          : 숫자 필기 이미지 => MNIST 계열 , 분류\n",
    "    - load_iris            : 붓꽃 데이터      => 분류\n",
    "    - load_linnerud        \n",
    "    - load_sample_image\n",
    "    - load_sample_images\n",
    "    - load_svmlight_file\n",
    "    - load_svmlight_files\n",
    "    - load_wine            : 와인등급         => 분류"
   ]
  },
  {
   "cell_type": "markdown",
   "metadata": {},
   "source": [
    "#### fetch()\n",
    "\n",
    "- 데이터가 커서 처음에 설치가 안된다\n",
    "- 요청을 하면 인터넷을 통해서 다운받아서 제공\n",
    "- scikit_learn_data 밑으로 저장\n",
    "- 종류\n",
    "    - fetch_20newsgroups : 뉴스 그룹 텍스트 자료\n",
    "    - fetch_20newsgroups_vectorized\n",
    "    - fetch_california_housing\n",
    "    - fetch_covtype : 토지조사자료 => 회귀분석\n",
    "    - fetch_kddcup99\n",
    "    - fetch_lfw_pairs : 얼굴 이미지 자료\n",
    "    - fetch_lfw_people : 얼굴 이미지 자료\n",
    "    - fetch_mldata : ML 웹사이트 데이터\n",
    "    - fetch_olivetti_faces : 얼굴 이미지 자료 \n",
    "    - fetch_openml\n",
    "    - fetch_rcv1 : 로이터 뉴스\n",
    "    - fetch_species_distributions"
   ]
  },
  {
   "cell_type": "markdown",
   "metadata": {},
   "source": [
    "#### make()\n",
    "\n",
    "- 모형 실험을 위해서 가상으로 만드는 데이터 세트\n",
    "- 종류\n",
    "  - make_regression : 회귀분석용 데이터 세트\n",
    "  - make_multilabel_classification :분류용 데이터세트\n",
    "  - make_blobs : 클러스터링(군집화)용 가상 데이터 세트\n",
    "  - 'make_classification','make_friedman1', 'make_friedman2', 'make_friedman3','make_gaussian_quantiles','make_hastie_10_2' 등등"
   ]
  },
  {
   "cell_type": "code",
   "execution_count": 3,
   "metadata": {},
   "outputs": [
    {
     "data": {
      "text/plain": [
       "sklearn.utils.Bunch"
      ]
     },
     "execution_count": 3,
     "metadata": {},
     "output_type": "execute_result"
    }
   ],
   "source": [
    "iris = mls.load_iris()\n",
    "type(iris)"
   ]
  },
  {
   "cell_type": "markdown",
   "metadata": {},
   "source": [
    "#### sklearn.utils.Bunch\n",
    "\n",
    "- sklearn 에서 제공되는 데이터는 이 형식을 대부분 따른다.\n",
    "- 변수 : dir(iris)를 통해서 확인\n",
    "    - DESCR : 데이터에 대한 총괄적인 설명\n",
    "    - data : (필수조건) 독립변수의 ndarray(배열) => numpy 의 자료구조\n",
    "    - feature_names : (옵션조건) 독립변수의 이름 (컬럼)\n",
    "    - target : (필수, 단 종류에 따라서는 생략은 가능) 종속변수의  ndarray(배열) => numpy 의 자료구조\n",
    "    - target_names : (옵션조건) 종속변수의 이름 리스트 (컬럼)\n",
    "    - filename : 파일명"
   ]
  },
  {
   "cell_type": "code",
   "execution_count": null,
   "metadata": {},
   "outputs": [],
   "source": []
  },
  {
   "cell_type": "code",
   "execution_count": null,
   "metadata": {},
   "outputs": [],
   "source": []
  },
  {
   "cell_type": "code",
   "execution_count": 4,
   "metadata": {},
   "outputs": [
    {
     "data": {
      "text/plain": [
       "['DESCR', 'data', 'feature_names', 'filename', 'target', 'target_names']"
      ]
     },
     "execution_count": 4,
     "metadata": {},
     "output_type": "execute_result"
    }
   ],
   "source": [
    "dir(iris)"
   ]
  },
  {
   "cell_type": "code",
   "execution_count": null,
   "metadata": {},
   "outputs": [],
   "source": []
  },
  {
   "cell_type": "code",
   "execution_count": null,
   "metadata": {},
   "outputs": [],
   "source": []
  },
  {
   "cell_type": "code",
   "execution_count": null,
   "metadata": {},
   "outputs": [],
   "source": []
  },
  {
   "cell_type": "code",
   "execution_count": null,
   "metadata": {},
   "outputs": [],
   "source": []
  },
  {
   "cell_type": "code",
   "execution_count": null,
   "metadata": {},
   "outputs": [],
   "source": []
  },
  {
   "cell_type": "code",
   "execution_count": null,
   "metadata": {},
   "outputs": [],
   "source": []
  },
  {
   "cell_type": "code",
   "execution_count": null,
   "metadata": {},
   "outputs": [],
   "source": []
  },
  {
   "cell_type": "code",
   "execution_count": null,
   "metadata": {},
   "outputs": [],
   "source": []
  },
  {
   "cell_type": "code",
   "execution_count": null,
   "metadata": {},
   "outputs": [],
   "source": []
  },
  {
   "cell_type": "code",
   "execution_count": null,
   "metadata": {},
   "outputs": [],
   "source": []
  },
  {
   "cell_type": "code",
   "execution_count": null,
   "metadata": {},
   "outputs": [],
   "source": []
  },
  {
   "cell_type": "code",
   "execution_count": null,
   "metadata": {},
   "outputs": [],
   "source": []
  },
  {
   "cell_type": "code",
   "execution_count": null,
   "metadata": {},
   "outputs": [],
   "source": []
  },
  {
   "cell_type": "code",
   "execution_count": null,
   "metadata": {},
   "outputs": [],
   "source": []
  },
  {
   "cell_type": "code",
   "execution_count": null,
   "metadata": {},
   "outputs": [],
   "source": []
  },
  {
   "cell_type": "code",
   "execution_count": null,
   "metadata": {},
   "outputs": [],
   "source": []
  }
 ],
 "metadata": {
  "kernelspec": {
   "display_name": "Python 3",
   "language": "python",
   "name": "python3"
  },
  "language_info": {
   "codemirror_mode": {
    "name": "ipython",
    "version": 3
   },
   "file_extension": ".py",
   "mimetype": "text/x-python",
   "name": "python",
   "nbconvert_exporter": "python",
   "pygments_lexer": "ipython3",
   "version": "3.7.4"
  }
 },
 "nbformat": 4,
 "nbformat_minor": 2
}
